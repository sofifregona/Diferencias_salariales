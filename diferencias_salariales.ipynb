{
  "nbformat": 4,
  "nbformat_minor": 0,
  "metadata": {
    "colab": {
      "provenance": []
    },
    "kernelspec": {
      "name": "python3",
      "display_name": "Python 3"
    },
    "language_info": {
      "name": "python"
    }
  },
  "cells": [
    {
      "cell_type": "markdown",
      "source": [
        "# Caso de estudio: diferencias en los pagos según género dentro de una compañía"
      ],
      "metadata": {
        "id": "wCjcumVkeWiA"
      }
    },
    {
      "cell_type": "code",
      "execution_count": null,
      "metadata": {
        "id": "lnb6HPuHbpx0"
      },
      "outputs": [],
      "source": [
        "!pip install pingouin\n",
        "!pip install bqplot\n",
        "!pip install chart_studio"
      ]
    },
    {
      "cell_type": "code",
      "source": [
        "import os\n",
        "from google.colab import drive\n",
        "drive.mount(\"/content/gdrive\", force_remount=True)\n",
        "%cd \"/content/gdrive/MyDrive/DataScience/Practicas\"\n",
        "\n",
        "import pandas as pd\n",
        "import numpy as np\n",
        "from scipy import stats\n",
        "import matplotlib.pyplot as plt\n",
        "import seaborn as sns\n",
        "import statsmodels.formula.api as sm"
      ],
      "metadata": {
        "colab": {
          "base_uri": "https://localhost:8080/"
        },
        "id": "pVt79UxUcGUq",
        "outputId": "33ccff98-09b3-42c9-d25f-12597183074d"
      },
      "execution_count": null,
      "outputs": [
        {
          "output_type": "stream",
          "name": "stdout",
          "text": [
            "Mounted at /content/gdrive\n",
            "/content/gdrive/MyDrive/DataScience/Practicas\n"
          ]
        }
      ]
    },
    {
      "cell_type": "markdown",
      "source": [
        "### Exploración de la data"
      ],
      "metadata": {
        "id": "LhHo__RLhzLv"
      }
    },
    {
      "cell_type": "code",
      "source": [
        "df = pd.read_csv(\"glassdoordata.csv\")"
      ],
      "metadata": {
        "id": "OxUf1LJ2h1ky"
      },
      "execution_count": null,
      "outputs": []
    },
    {
      "cell_type": "code",
      "source": [
        "df.head()"
      ],
      "metadata": {
        "colab": {
          "base_uri": "https://localhost:8080/",
          "height": 206
        },
        "id": "N4CpZz--h9kS",
        "outputId": "5e0c72e7-ea71-4c46-8880-5ebc0844c6f3"
      },
      "execution_count": null,
      "outputs": [
        {
          "output_type": "execute_result",
          "data": {
            "text/plain": [
              "              jobtitle  gender  age  performance education      department  \\\n",
              "0     Graphic Designer  Female   18            5   College      Operations   \n",
              "1    Software Engineer    Male   21            5   College      Management   \n",
              "2  Warehouse Associate  Female   19            4       PhD  Administration   \n",
              "3    Software Engineer    Male   20            5   Masters           Sales   \n",
              "4     Graphic Designer    Male   26            5   Masters     Engineering   \n",
              "\n",
              "   seniority  income  bonus  \n",
              "0          2   42363   9938  \n",
              "1          5  108476  11128  \n",
              "2          5   90208   9268  \n",
              "3          4  108080  10154  \n",
              "4          5   99464   9319  "
            ],
            "text/html": [
              "\n",
              "  <div id=\"df-07b3124a-974e-45af-89a5-8362a12c01fb\">\n",
              "    <div class=\"colab-df-container\">\n",
              "      <div>\n",
              "<style scoped>\n",
              "    .dataframe tbody tr th:only-of-type {\n",
              "        vertical-align: middle;\n",
              "    }\n",
              "\n",
              "    .dataframe tbody tr th {\n",
              "        vertical-align: top;\n",
              "    }\n",
              "\n",
              "    .dataframe thead th {\n",
              "        text-align: right;\n",
              "    }\n",
              "</style>\n",
              "<table border=\"1\" class=\"dataframe\">\n",
              "  <thead>\n",
              "    <tr style=\"text-align: right;\">\n",
              "      <th></th>\n",
              "      <th>jobtitle</th>\n",
              "      <th>gender</th>\n",
              "      <th>age</th>\n",
              "      <th>performance</th>\n",
              "      <th>education</th>\n",
              "      <th>department</th>\n",
              "      <th>seniority</th>\n",
              "      <th>income</th>\n",
              "      <th>bonus</th>\n",
              "    </tr>\n",
              "  </thead>\n",
              "  <tbody>\n",
              "    <tr>\n",
              "      <th>0</th>\n",
              "      <td>Graphic Designer</td>\n",
              "      <td>Female</td>\n",
              "      <td>18</td>\n",
              "      <td>5</td>\n",
              "      <td>College</td>\n",
              "      <td>Operations</td>\n",
              "      <td>2</td>\n",
              "      <td>42363</td>\n",
              "      <td>9938</td>\n",
              "    </tr>\n",
              "    <tr>\n",
              "      <th>1</th>\n",
              "      <td>Software Engineer</td>\n",
              "      <td>Male</td>\n",
              "      <td>21</td>\n",
              "      <td>5</td>\n",
              "      <td>College</td>\n",
              "      <td>Management</td>\n",
              "      <td>5</td>\n",
              "      <td>108476</td>\n",
              "      <td>11128</td>\n",
              "    </tr>\n",
              "    <tr>\n",
              "      <th>2</th>\n",
              "      <td>Warehouse Associate</td>\n",
              "      <td>Female</td>\n",
              "      <td>19</td>\n",
              "      <td>4</td>\n",
              "      <td>PhD</td>\n",
              "      <td>Administration</td>\n",
              "      <td>5</td>\n",
              "      <td>90208</td>\n",
              "      <td>9268</td>\n",
              "    </tr>\n",
              "    <tr>\n",
              "      <th>3</th>\n",
              "      <td>Software Engineer</td>\n",
              "      <td>Male</td>\n",
              "      <td>20</td>\n",
              "      <td>5</td>\n",
              "      <td>Masters</td>\n",
              "      <td>Sales</td>\n",
              "      <td>4</td>\n",
              "      <td>108080</td>\n",
              "      <td>10154</td>\n",
              "    </tr>\n",
              "    <tr>\n",
              "      <th>4</th>\n",
              "      <td>Graphic Designer</td>\n",
              "      <td>Male</td>\n",
              "      <td>26</td>\n",
              "      <td>5</td>\n",
              "      <td>Masters</td>\n",
              "      <td>Engineering</td>\n",
              "      <td>5</td>\n",
              "      <td>99464</td>\n",
              "      <td>9319</td>\n",
              "    </tr>\n",
              "  </tbody>\n",
              "</table>\n",
              "</div>\n",
              "      <button class=\"colab-df-convert\" onclick=\"convertToInteractive('df-07b3124a-974e-45af-89a5-8362a12c01fb')\"\n",
              "              title=\"Convert this dataframe to an interactive table.\"\n",
              "              style=\"display:none;\">\n",
              "        \n",
              "  <svg xmlns=\"http://www.w3.org/2000/svg\" height=\"24px\"viewBox=\"0 0 24 24\"\n",
              "       width=\"24px\">\n",
              "    <path d=\"M0 0h24v24H0V0z\" fill=\"none\"/>\n",
              "    <path d=\"M18.56 5.44l.94 2.06.94-2.06 2.06-.94-2.06-.94-.94-2.06-.94 2.06-2.06.94zm-11 1L8.5 8.5l.94-2.06 2.06-.94-2.06-.94L8.5 2.5l-.94 2.06-2.06.94zm10 10l.94 2.06.94-2.06 2.06-.94-2.06-.94-.94-2.06-.94 2.06-2.06.94z\"/><path d=\"M17.41 7.96l-1.37-1.37c-.4-.4-.92-.59-1.43-.59-.52 0-1.04.2-1.43.59L10.3 9.45l-7.72 7.72c-.78.78-.78 2.05 0 2.83L4 21.41c.39.39.9.59 1.41.59.51 0 1.02-.2 1.41-.59l7.78-7.78 2.81-2.81c.8-.78.8-2.07 0-2.86zM5.41 20L4 18.59l7.72-7.72 1.47 1.35L5.41 20z\"/>\n",
              "  </svg>\n",
              "      </button>\n",
              "      \n",
              "  <style>\n",
              "    .colab-df-container {\n",
              "      display:flex;\n",
              "      flex-wrap:wrap;\n",
              "      gap: 12px;\n",
              "    }\n",
              "\n",
              "    .colab-df-convert {\n",
              "      background-color: #E8F0FE;\n",
              "      border: none;\n",
              "      border-radius: 50%;\n",
              "      cursor: pointer;\n",
              "      display: none;\n",
              "      fill: #1967D2;\n",
              "      height: 32px;\n",
              "      padding: 0 0 0 0;\n",
              "      width: 32px;\n",
              "    }\n",
              "\n",
              "    .colab-df-convert:hover {\n",
              "      background-color: #E2EBFA;\n",
              "      box-shadow: 0px 1px 2px rgba(60, 64, 67, 0.3), 0px 1px 3px 1px rgba(60, 64, 67, 0.15);\n",
              "      fill: #174EA6;\n",
              "    }\n",
              "\n",
              "    [theme=dark] .colab-df-convert {\n",
              "      background-color: #3B4455;\n",
              "      fill: #D2E3FC;\n",
              "    }\n",
              "\n",
              "    [theme=dark] .colab-df-convert:hover {\n",
              "      background-color: #434B5C;\n",
              "      box-shadow: 0px 1px 3px 1px rgba(0, 0, 0, 0.15);\n",
              "      filter: drop-shadow(0px 1px 2px rgba(0, 0, 0, 0.3));\n",
              "      fill: #FFFFFF;\n",
              "    }\n",
              "  </style>\n",
              "\n",
              "      <script>\n",
              "        const buttonEl =\n",
              "          document.querySelector('#df-07b3124a-974e-45af-89a5-8362a12c01fb button.colab-df-convert');\n",
              "        buttonEl.style.display =\n",
              "          google.colab.kernel.accessAllowed ? 'block' : 'none';\n",
              "\n",
              "        async function convertToInteractive(key) {\n",
              "          const element = document.querySelector('#df-07b3124a-974e-45af-89a5-8362a12c01fb');\n",
              "          const dataTable =\n",
              "            await google.colab.kernel.invokeFunction('convertToInteractive',\n",
              "                                                     [key], {});\n",
              "          if (!dataTable) return;\n",
              "\n",
              "          const docLinkHtml = 'Like what you see? Visit the ' +\n",
              "            '<a target=\"_blank\" href=https://colab.research.google.com/notebooks/data_table.ipynb>data table notebook</a>'\n",
              "            + ' to learn more about interactive tables.';\n",
              "          element.innerHTML = '';\n",
              "          dataTable['output_type'] = 'display_data';\n",
              "          await google.colab.output.renderOutput(dataTable, element);\n",
              "          const docLink = document.createElement('div');\n",
              "          docLink.innerHTML = docLinkHtml;\n",
              "          element.appendChild(docLink);\n",
              "        }\n",
              "      </script>\n",
              "    </div>\n",
              "  </div>\n",
              "  "
            ]
          },
          "metadata": {},
          "execution_count": 4
        }
      ]
    },
    {
      "cell_type": "code",
      "source": [
        "df.shape #dimensión"
      ],
      "metadata": {
        "colab": {
          "base_uri": "https://localhost:8080/"
        },
        "id": "FfvZcwdriJ0l",
        "outputId": "e993f41f-ef1c-46a5-9532-36200f6dfcb7"
      },
      "execution_count": null,
      "outputs": [
        {
          "output_type": "execute_result",
          "data": {
            "text/plain": [
              "(1000, 9)"
            ]
          },
          "metadata": {},
          "execution_count": 5
        }
      ]
    },
    {
      "cell_type": "markdown",
      "source": [
        "Documentación:\n",
        "\n",
        "*  **jobtitle**: título del trabajo\n",
        "*  **gender**: género\n",
        "*  **age**: edad\n",
        "*  **performance**: rendimiento en una escala de 1 a 5, siendo 1 el más bajo y 5 el más alto\n",
        "*  **education**: nivel educativo\n",
        "*  **department**: departamento de trabajo\n",
        "*  **seniority**: en una escala de 1 a 5, siendo 1 el más bajo y 5 el más alto\n",
        "*  **income**: salario anual (USD)\n",
        "*  **bonus**: bonus de pago anual (USD)\n"
      ],
      "metadata": {
        "id": "GrAt_H9Fihv_"
      }
    },
    {
      "cell_type": "markdown",
      "source": [
        "Queremos ver si existen diferencias en la compensación total que reciben los hombres y las mujeres. Por lo que se requiere la creación de una nueva columna que contemple tanto el salario como los bonus de pago."
      ],
      "metadata": {
        "id": "6a7w636VjayP"
      }
    },
    {
      "cell_type": "code",
      "source": [
        "df['pay'] = df['income']+df['bonus']\n",
        "df.head()"
      ],
      "metadata": {
        "colab": {
          "base_uri": "https://localhost:8080/",
          "height": 206
        },
        "id": "uLQAYlfGjRy1",
        "outputId": "92adb753-2a96-4625-c667-027c72b47f67"
      },
      "execution_count": null,
      "outputs": [
        {
          "output_type": "execute_result",
          "data": {
            "text/plain": [
              "              jobtitle  gender  age  performance education      department  \\\n",
              "0     Graphic Designer  Female   18            5   College      Operations   \n",
              "1    Software Engineer    Male   21            5   College      Management   \n",
              "2  Warehouse Associate  Female   19            4       PhD  Administration   \n",
              "3    Software Engineer    Male   20            5   Masters           Sales   \n",
              "4     Graphic Designer    Male   26            5   Masters     Engineering   \n",
              "\n",
              "   seniority  income  bonus     pay  \n",
              "0          2   42363   9938   52301  \n",
              "1          5  108476  11128  119604  \n",
              "2          5   90208   9268   99476  \n",
              "3          4  108080  10154  118234  \n",
              "4          5   99464   9319  108783  "
            ],
            "text/html": [
              "\n",
              "  <div id=\"df-545a2dcc-9f8b-42d6-96e5-221bc370973a\">\n",
              "    <div class=\"colab-df-container\">\n",
              "      <div>\n",
              "<style scoped>\n",
              "    .dataframe tbody tr th:only-of-type {\n",
              "        vertical-align: middle;\n",
              "    }\n",
              "\n",
              "    .dataframe tbody tr th {\n",
              "        vertical-align: top;\n",
              "    }\n",
              "\n",
              "    .dataframe thead th {\n",
              "        text-align: right;\n",
              "    }\n",
              "</style>\n",
              "<table border=\"1\" class=\"dataframe\">\n",
              "  <thead>\n",
              "    <tr style=\"text-align: right;\">\n",
              "      <th></th>\n",
              "      <th>jobtitle</th>\n",
              "      <th>gender</th>\n",
              "      <th>age</th>\n",
              "      <th>performance</th>\n",
              "      <th>education</th>\n",
              "      <th>department</th>\n",
              "      <th>seniority</th>\n",
              "      <th>income</th>\n",
              "      <th>bonus</th>\n",
              "      <th>pay</th>\n",
              "    </tr>\n",
              "  </thead>\n",
              "  <tbody>\n",
              "    <tr>\n",
              "      <th>0</th>\n",
              "      <td>Graphic Designer</td>\n",
              "      <td>Female</td>\n",
              "      <td>18</td>\n",
              "      <td>5</td>\n",
              "      <td>College</td>\n",
              "      <td>Operations</td>\n",
              "      <td>2</td>\n",
              "      <td>42363</td>\n",
              "      <td>9938</td>\n",
              "      <td>52301</td>\n",
              "    </tr>\n",
              "    <tr>\n",
              "      <th>1</th>\n",
              "      <td>Software Engineer</td>\n",
              "      <td>Male</td>\n",
              "      <td>21</td>\n",
              "      <td>5</td>\n",
              "      <td>College</td>\n",
              "      <td>Management</td>\n",
              "      <td>5</td>\n",
              "      <td>108476</td>\n",
              "      <td>11128</td>\n",
              "      <td>119604</td>\n",
              "    </tr>\n",
              "    <tr>\n",
              "      <th>2</th>\n",
              "      <td>Warehouse Associate</td>\n",
              "      <td>Female</td>\n",
              "      <td>19</td>\n",
              "      <td>4</td>\n",
              "      <td>PhD</td>\n",
              "      <td>Administration</td>\n",
              "      <td>5</td>\n",
              "      <td>90208</td>\n",
              "      <td>9268</td>\n",
              "      <td>99476</td>\n",
              "    </tr>\n",
              "    <tr>\n",
              "      <th>3</th>\n",
              "      <td>Software Engineer</td>\n",
              "      <td>Male</td>\n",
              "      <td>20</td>\n",
              "      <td>5</td>\n",
              "      <td>Masters</td>\n",
              "      <td>Sales</td>\n",
              "      <td>4</td>\n",
              "      <td>108080</td>\n",
              "      <td>10154</td>\n",
              "      <td>118234</td>\n",
              "    </tr>\n",
              "    <tr>\n",
              "      <th>4</th>\n",
              "      <td>Graphic Designer</td>\n",
              "      <td>Male</td>\n",
              "      <td>26</td>\n",
              "      <td>5</td>\n",
              "      <td>Masters</td>\n",
              "      <td>Engineering</td>\n",
              "      <td>5</td>\n",
              "      <td>99464</td>\n",
              "      <td>9319</td>\n",
              "      <td>108783</td>\n",
              "    </tr>\n",
              "  </tbody>\n",
              "</table>\n",
              "</div>\n",
              "      <button class=\"colab-df-convert\" onclick=\"convertToInteractive('df-545a2dcc-9f8b-42d6-96e5-221bc370973a')\"\n",
              "              title=\"Convert this dataframe to an interactive table.\"\n",
              "              style=\"display:none;\">\n",
              "        \n",
              "  <svg xmlns=\"http://www.w3.org/2000/svg\" height=\"24px\"viewBox=\"0 0 24 24\"\n",
              "       width=\"24px\">\n",
              "    <path d=\"M0 0h24v24H0V0z\" fill=\"none\"/>\n",
              "    <path d=\"M18.56 5.44l.94 2.06.94-2.06 2.06-.94-2.06-.94-.94-2.06-.94 2.06-2.06.94zm-11 1L8.5 8.5l.94-2.06 2.06-.94-2.06-.94L8.5 2.5l-.94 2.06-2.06.94zm10 10l.94 2.06.94-2.06 2.06-.94-2.06-.94-.94-2.06-.94 2.06-2.06.94z\"/><path d=\"M17.41 7.96l-1.37-1.37c-.4-.4-.92-.59-1.43-.59-.52 0-1.04.2-1.43.59L10.3 9.45l-7.72 7.72c-.78.78-.78 2.05 0 2.83L4 21.41c.39.39.9.59 1.41.59.51 0 1.02-.2 1.41-.59l7.78-7.78 2.81-2.81c.8-.78.8-2.07 0-2.86zM5.41 20L4 18.59l7.72-7.72 1.47 1.35L5.41 20z\"/>\n",
              "  </svg>\n",
              "      </button>\n",
              "      \n",
              "  <style>\n",
              "    .colab-df-container {\n",
              "      display:flex;\n",
              "      flex-wrap:wrap;\n",
              "      gap: 12px;\n",
              "    }\n",
              "\n",
              "    .colab-df-convert {\n",
              "      background-color: #E8F0FE;\n",
              "      border: none;\n",
              "      border-radius: 50%;\n",
              "      cursor: pointer;\n",
              "      display: none;\n",
              "      fill: #1967D2;\n",
              "      height: 32px;\n",
              "      padding: 0 0 0 0;\n",
              "      width: 32px;\n",
              "    }\n",
              "\n",
              "    .colab-df-convert:hover {\n",
              "      background-color: #E2EBFA;\n",
              "      box-shadow: 0px 1px 2px rgba(60, 64, 67, 0.3), 0px 1px 3px 1px rgba(60, 64, 67, 0.15);\n",
              "      fill: #174EA6;\n",
              "    }\n",
              "\n",
              "    [theme=dark] .colab-df-convert {\n",
              "      background-color: #3B4455;\n",
              "      fill: #D2E3FC;\n",
              "    }\n",
              "\n",
              "    [theme=dark] .colab-df-convert:hover {\n",
              "      background-color: #434B5C;\n",
              "      box-shadow: 0px 1px 3px 1px rgba(0, 0, 0, 0.15);\n",
              "      filter: drop-shadow(0px 1px 2px rgba(0, 0, 0, 0.3));\n",
              "      fill: #FFFFFF;\n",
              "    }\n",
              "  </style>\n",
              "\n",
              "      <script>\n",
              "        const buttonEl =\n",
              "          document.querySelector('#df-545a2dcc-9f8b-42d6-96e5-221bc370973a button.colab-df-convert');\n",
              "        buttonEl.style.display =\n",
              "          google.colab.kernel.accessAllowed ? 'block' : 'none';\n",
              "\n",
              "        async function convertToInteractive(key) {\n",
              "          const element = document.querySelector('#df-545a2dcc-9f8b-42d6-96e5-221bc370973a');\n",
              "          const dataTable =\n",
              "            await google.colab.kernel.invokeFunction('convertToInteractive',\n",
              "                                                     [key], {});\n",
              "          if (!dataTable) return;\n",
              "\n",
              "          const docLinkHtml = 'Like what you see? Visit the ' +\n",
              "            '<a target=\"_blank\" href=https://colab.research.google.com/notebooks/data_table.ipynb>data table notebook</a>'\n",
              "            + ' to learn more about interactive tables.';\n",
              "          element.innerHTML = '';\n",
              "          dataTable['output_type'] = 'display_data';\n",
              "          await google.colab.output.renderOutput(dataTable, element);\n",
              "          const docLink = document.createElement('div');\n",
              "          docLink.innerHTML = docLinkHtml;\n",
              "          element.appendChild(docLink);\n",
              "        }\n",
              "      </script>\n",
              "    </div>\n",
              "  </div>\n",
              "  "
            ]
          },
          "metadata": {},
          "execution_count": 5
        }
      ]
    },
    {
      "cell_type": "markdown",
      "source": [
        "### EDA"
      ],
      "metadata": {
        "id": "QWbNhJv8jy3I"
      }
    },
    {
      "cell_type": "code",
      "source": [
        "df.corr(method='pearson')"
      ],
      "metadata": {
        "colab": {
          "base_uri": "https://localhost:8080/",
          "height": 238
        },
        "id": "xEnyYF8j0e_3",
        "outputId": "7cfc3c03-6e85-400f-e799-b6edfdad2f77"
      },
      "execution_count": null,
      "outputs": [
        {
          "output_type": "execute_result",
          "data": {
            "text/plain": [
              "                  age  performance  seniority    income     bonus       pay\n",
              "age          1.000000    -0.056875  -0.021414  0.562681 -0.414337  0.533715\n",
              "performance -0.056875     1.000000  -0.021127 -0.053622  0.855500  0.014155\n",
              "seniority   -0.021414    -0.021127   1.000000  0.511096  0.194982  0.530307\n",
              "income       0.562681    -0.053622   0.511096  1.000000 -0.129481  0.996874\n",
              "bonus       -0.414337     0.855500   0.194982 -0.129481  1.000000 -0.050736\n",
              "pay          0.533715     0.014155   0.530307  0.996874 -0.050736  1.000000"
            ],
            "text/html": [
              "\n",
              "  <div id=\"df-43f42c70-e040-4b88-bcbf-0aab2d436064\">\n",
              "    <div class=\"colab-df-container\">\n",
              "      <div>\n",
              "<style scoped>\n",
              "    .dataframe tbody tr th:only-of-type {\n",
              "        vertical-align: middle;\n",
              "    }\n",
              "\n",
              "    .dataframe tbody tr th {\n",
              "        vertical-align: top;\n",
              "    }\n",
              "\n",
              "    .dataframe thead th {\n",
              "        text-align: right;\n",
              "    }\n",
              "</style>\n",
              "<table border=\"1\" class=\"dataframe\">\n",
              "  <thead>\n",
              "    <tr style=\"text-align: right;\">\n",
              "      <th></th>\n",
              "      <th>age</th>\n",
              "      <th>performance</th>\n",
              "      <th>seniority</th>\n",
              "      <th>income</th>\n",
              "      <th>bonus</th>\n",
              "      <th>pay</th>\n",
              "    </tr>\n",
              "  </thead>\n",
              "  <tbody>\n",
              "    <tr>\n",
              "      <th>age</th>\n",
              "      <td>1.000000</td>\n",
              "      <td>-0.056875</td>\n",
              "      <td>-0.021414</td>\n",
              "      <td>0.562681</td>\n",
              "      <td>-0.414337</td>\n",
              "      <td>0.533715</td>\n",
              "    </tr>\n",
              "    <tr>\n",
              "      <th>performance</th>\n",
              "      <td>-0.056875</td>\n",
              "      <td>1.000000</td>\n",
              "      <td>-0.021127</td>\n",
              "      <td>-0.053622</td>\n",
              "      <td>0.855500</td>\n",
              "      <td>0.014155</td>\n",
              "    </tr>\n",
              "    <tr>\n",
              "      <th>seniority</th>\n",
              "      <td>-0.021414</td>\n",
              "      <td>-0.021127</td>\n",
              "      <td>1.000000</td>\n",
              "      <td>0.511096</td>\n",
              "      <td>0.194982</td>\n",
              "      <td>0.530307</td>\n",
              "    </tr>\n",
              "    <tr>\n",
              "      <th>income</th>\n",
              "      <td>0.562681</td>\n",
              "      <td>-0.053622</td>\n",
              "      <td>0.511096</td>\n",
              "      <td>1.000000</td>\n",
              "      <td>-0.129481</td>\n",
              "      <td>0.996874</td>\n",
              "    </tr>\n",
              "    <tr>\n",
              "      <th>bonus</th>\n",
              "      <td>-0.414337</td>\n",
              "      <td>0.855500</td>\n",
              "      <td>0.194982</td>\n",
              "      <td>-0.129481</td>\n",
              "      <td>1.000000</td>\n",
              "      <td>-0.050736</td>\n",
              "    </tr>\n",
              "    <tr>\n",
              "      <th>pay</th>\n",
              "      <td>0.533715</td>\n",
              "      <td>0.014155</td>\n",
              "      <td>0.530307</td>\n",
              "      <td>0.996874</td>\n",
              "      <td>-0.050736</td>\n",
              "      <td>1.000000</td>\n",
              "    </tr>\n",
              "  </tbody>\n",
              "</table>\n",
              "</div>\n",
              "      <button class=\"colab-df-convert\" onclick=\"convertToInteractive('df-43f42c70-e040-4b88-bcbf-0aab2d436064')\"\n",
              "              title=\"Convert this dataframe to an interactive table.\"\n",
              "              style=\"display:none;\">\n",
              "        \n",
              "  <svg xmlns=\"http://www.w3.org/2000/svg\" height=\"24px\"viewBox=\"0 0 24 24\"\n",
              "       width=\"24px\">\n",
              "    <path d=\"M0 0h24v24H0V0z\" fill=\"none\"/>\n",
              "    <path d=\"M18.56 5.44l.94 2.06.94-2.06 2.06-.94-2.06-.94-.94-2.06-.94 2.06-2.06.94zm-11 1L8.5 8.5l.94-2.06 2.06-.94-2.06-.94L8.5 2.5l-.94 2.06-2.06.94zm10 10l.94 2.06.94-2.06 2.06-.94-2.06-.94-.94-2.06-.94 2.06-2.06.94z\"/><path d=\"M17.41 7.96l-1.37-1.37c-.4-.4-.92-.59-1.43-.59-.52 0-1.04.2-1.43.59L10.3 9.45l-7.72 7.72c-.78.78-.78 2.05 0 2.83L4 21.41c.39.39.9.59 1.41.59.51 0 1.02-.2 1.41-.59l7.78-7.78 2.81-2.81c.8-.78.8-2.07 0-2.86zM5.41 20L4 18.59l7.72-7.72 1.47 1.35L5.41 20z\"/>\n",
              "  </svg>\n",
              "      </button>\n",
              "      \n",
              "  <style>\n",
              "    .colab-df-container {\n",
              "      display:flex;\n",
              "      flex-wrap:wrap;\n",
              "      gap: 12px;\n",
              "    }\n",
              "\n",
              "    .colab-df-convert {\n",
              "      background-color: #E8F0FE;\n",
              "      border: none;\n",
              "      border-radius: 50%;\n",
              "      cursor: pointer;\n",
              "      display: none;\n",
              "      fill: #1967D2;\n",
              "      height: 32px;\n",
              "      padding: 0 0 0 0;\n",
              "      width: 32px;\n",
              "    }\n",
              "\n",
              "    .colab-df-convert:hover {\n",
              "      background-color: #E2EBFA;\n",
              "      box-shadow: 0px 1px 2px rgba(60, 64, 67, 0.3), 0px 1px 3px 1px rgba(60, 64, 67, 0.15);\n",
              "      fill: #174EA6;\n",
              "    }\n",
              "\n",
              "    [theme=dark] .colab-df-convert {\n",
              "      background-color: #3B4455;\n",
              "      fill: #D2E3FC;\n",
              "    }\n",
              "\n",
              "    [theme=dark] .colab-df-convert:hover {\n",
              "      background-color: #434B5C;\n",
              "      box-shadow: 0px 1px 3px 1px rgba(0, 0, 0, 0.15);\n",
              "      filter: drop-shadow(0px 1px 2px rgba(0, 0, 0, 0.3));\n",
              "      fill: #FFFFFF;\n",
              "    }\n",
              "  </style>\n",
              "\n",
              "      <script>\n",
              "        const buttonEl =\n",
              "          document.querySelector('#df-43f42c70-e040-4b88-bcbf-0aab2d436064 button.colab-df-convert');\n",
              "        buttonEl.style.display =\n",
              "          google.colab.kernel.accessAllowed ? 'block' : 'none';\n",
              "\n",
              "        async function convertToInteractive(key) {\n",
              "          const element = document.querySelector('#df-43f42c70-e040-4b88-bcbf-0aab2d436064');\n",
              "          const dataTable =\n",
              "            await google.colab.kernel.invokeFunction('convertToInteractive',\n",
              "                                                     [key], {});\n",
              "          if (!dataTable) return;\n",
              "\n",
              "          const docLinkHtml = 'Like what you see? Visit the ' +\n",
              "            '<a target=\"_blank\" href=https://colab.research.google.com/notebooks/data_table.ipynb>data table notebook</a>'\n",
              "            + ' to learn more about interactive tables.';\n",
              "          element.innerHTML = '';\n",
              "          dataTable['output_type'] = 'display_data';\n",
              "          await google.colab.output.renderOutput(dataTable, element);\n",
              "          const docLink = document.createElement('div');\n",
              "          docLink.innerHTML = docLinkHtml;\n",
              "          element.appendChild(docLink);\n",
              "        }\n",
              "      </script>\n",
              "    </div>\n",
              "  </div>\n",
              "  "
            ]
          },
          "metadata": {},
          "execution_count": 7
        }
      ]
    },
    {
      "cell_type": "markdown",
      "source": [
        "Descartando las variables de salario y bonus, que son las que se utilizaron para construir la columna de pagos, se observa que las variables que mejor correlacionan con el pago son la edad y el seniority."
      ],
      "metadata": {
        "id": "OWyCk6861NKh"
      }
    },
    {
      "cell_type": "markdown",
      "source": [
        "#### Pago vs edad"
      ],
      "metadata": {
        "id": "fCBRTE-csPm3"
      }
    },
    {
      "cell_type": "code",
      "source": [
        "sns.scatterplot(data = df, x = \"age\", y = \"pay\", alpha = .5)"
      ],
      "metadata": {
        "colab": {
          "base_uri": "https://localhost:8080/",
          "height": 296
        },
        "id": "68zapjccq7Ig",
        "outputId": "b1cb9e6d-29dd-4b9d-bfac-6edf77dea5d1"
      },
      "execution_count": null,
      "outputs": [
        {
          "output_type": "execute_result",
          "data": {
            "text/plain": [
              "<AxesSubplot:xlabel='age', ylabel='pay'>"
            ]
          },
          "metadata": {},
          "execution_count": 6
        },
        {
          "output_type": "display_data",
          "data": {
            "text/plain": [
              "<Figure size 432x288 with 1 Axes>"
            ],
            "image/png": "[encoded data removed]"
          },
          "metadata": {
            "needs_background": "light"
          }
        }
      ]
    },
    {
      "cell_type": "markdown",
      "source": [
        "Se observa lo que pareciera ser una relación lineal creciente entre la edad de la persona y el pago que recibe."
      ],
      "metadata": {
        "id": "GEt83EjysSWn"
      }
    },
    {
      "cell_type": "markdown",
      "source": [
        "#### Pago vs seniority"
      ],
      "metadata": {
        "id": "rPXZDtON1pVt"
      }
    },
    {
      "cell_type": "code",
      "source": [
        "sns.boxplot(data = df, x = \"seniority\", y = \"pay\")\n",
        "plt.title(\"Seniority vs Pay\")"
      ],
      "metadata": {
        "colab": {
          "base_uri": "https://localhost:8080/",
          "height": 312
        },
        "id": "1TbOAxge1rpm",
        "outputId": "206277f4-2e80-4116-c915-9e49a8f8165e"
      },
      "execution_count": null,
      "outputs": [
        {
          "output_type": "execute_result",
          "data": {
            "text/plain": [
              "Text(0.5, 1.0, 'Seniority vs Pay')"
            ]
          },
          "metadata": {},
          "execution_count": 7
        },
        {
          "output_type": "display_data",
          "data": {
            "text/plain": [
              "<Figure size 432x288 with 1 Axes>"
            ],
            "image/png": "[encoded data removed]"
          },
          "metadata": {
            "needs_background": "light"
          }
        }
      ]
    },
    {
      "cell_type": "markdown",
      "source": [
        "Se observa que a medida que aumenta el nivel de seniority las medianas de los pagos también aumentan. Si bien cada caja pareciera estar bastante solapada con la caja del nivel siguiente (por lo que no podríamos afirmar que existan diferencias significativas a priori), sí se observa que para el caso del nivel 1 podrían existir diferencias significativas en los pagos en relación a las personas con un seniority de nivel 4 o 5. Lo mismo ocurre con las personas con un seniority de 2 en relación a las que tienen un seniority de 5. \n",
        "\n",
        "La variabilidad de observa similar. Y, a excepción del nivel 2, todos los casos presentan outliers."
      ],
      "metadata": {
        "id": "AEcQYNFT1y2s"
      }
    },
    {
      "cell_type": "markdown",
      "source": [
        "### Pago vs nivel educativo"
      ],
      "metadata": {
        "id": "oU8_VM1X3G_7"
      }
    },
    {
      "cell_type": "code",
      "source": [
        "sns.boxplot(data = df, x = \"education\", y = \"pay\")\n",
        "plt.title(\"Education vs Pay\")"
      ],
      "metadata": {
        "colab": {
          "base_uri": "https://localhost:8080/",
          "height": 312
        },
        "id": "Y1RjIMSN3Ipd",
        "outputId": "44c0b3c9-a532-4cc7-8943-c9bfbf33bc98"
      },
      "execution_count": null,
      "outputs": [
        {
          "output_type": "execute_result",
          "data": {
            "text/plain": [
              "Text(0.5, 1.0, 'Education vs Pay')"
            ]
          },
          "metadata": {},
          "execution_count": 8
        },
        {
          "output_type": "display_data",
          "data": {
            "text/plain": [
              "<Figure size 432x288 with 1 Axes>"
            ],
            "image/png": "[encoded data removed]"
          },
          "metadata": {
            "needs_background": "light"
          }
        }
      ]
    },
    {
      "cell_type": "markdown",
      "source": [
        "Se observa que las medianas de las personas con PhD y Másters son ligeramente superiores que las de High School y College, siendo la de PhD la más alta de las cuatro. Sin embargo, las cajas se encuentran muy solapadas, por lo que no parecieran existir diferencias significativas. \n",
        "\n",
        "La variabilidad también es similar en todos los casos."
      ],
      "metadata": {
        "id": "1kJPiDHw3Q3b"
      }
    },
    {
      "cell_type": "markdown",
      "source": [
        "#### Pago vs género"
      ],
      "metadata": {
        "id": "U5es2xBpsKXn"
      }
    },
    {
      "cell_type": "code",
      "source": [
        "df.groupby(\"gender\")[\"pay\"].describe()"
      ],
      "metadata": {
        "colab": {
          "base_uri": "https://localhost:8080/",
          "height": 143
        },
        "id": "y-JVWuqFj2Kf",
        "outputId": "018eac30-0bee-415d-98c3-4f74cf51a8a2"
      },
      "execution_count": null,
      "outputs": [
        {
          "output_type": "execute_result",
          "data": {
            "text/plain": [
              "        count           mean           std      min       25%       50%  \\\n",
              "gender                                                                    \n",
              "Female  468.0   96416.831197  24202.157488  40828.0  80866.50   96571.0   \n",
              "Male    532.0  104918.678571  25329.566633  41030.0  87791.75  105100.5   \n",
              "\n",
              "             75%       max  \n",
              "gender                      \n",
              "Female  112660.5  168968.0  \n",
              "Male    121617.0  184010.0  "
            ],
            "text/html": [
              "\n",
              "  <div id=\"df-54b7649c-6db3-491c-9501-ff9c22eb56d3\">\n",
              "    <div class=\"colab-df-container\">\n",
              "      <div>\n",
              "<style scoped>\n",
              "    .dataframe tbody tr th:only-of-type {\n",
              "        vertical-align: middle;\n",
              "    }\n",
              "\n",
              "    .dataframe tbody tr th {\n",
              "        vertical-align: top;\n",
              "    }\n",
              "\n",
              "    .dataframe thead th {\n",
              "        text-align: right;\n",
              "    }\n",
              "</style>\n",
              "<table border=\"1\" class=\"dataframe\">\n",
              "  <thead>\n",
              "    <tr style=\"text-align: right;\">\n",
              "      <th></th>\n",
              "      <th>count</th>\n",
              "      <th>mean</th>\n",
              "      <th>std</th>\n",
              "      <th>min</th>\n",
              "      <th>25%</th>\n",
              "      <th>50%</th>\n",
              "      <th>75%</th>\n",
              "      <th>max</th>\n",
              "    </tr>\n",
              "    <tr>\n",
              "      <th>gender</th>\n",
              "      <th></th>\n",
              "      <th></th>\n",
              "      <th></th>\n",
              "      <th></th>\n",
              "      <th></th>\n",
              "      <th></th>\n",
              "      <th></th>\n",
              "      <th></th>\n",
              "    </tr>\n",
              "  </thead>\n",
              "  <tbody>\n",
              "    <tr>\n",
              "      <th>Female</th>\n",
              "      <td>468.0</td>\n",
              "      <td>96416.831197</td>\n",
              "      <td>24202.157488</td>\n",
              "      <td>40828.0</td>\n",
              "      <td>80866.50</td>\n",
              "      <td>96571.0</td>\n",
              "      <td>112660.5</td>\n",
              "      <td>168968.0</td>\n",
              "    </tr>\n",
              "    <tr>\n",
              "      <th>Male</th>\n",
              "      <td>532.0</td>\n",
              "      <td>104918.678571</td>\n",
              "      <td>25329.566633</td>\n",
              "      <td>41030.0</td>\n",
              "      <td>87791.75</td>\n",
              "      <td>105100.5</td>\n",
              "      <td>121617.0</td>\n",
              "      <td>184010.0</td>\n",
              "    </tr>\n",
              "  </tbody>\n",
              "</table>\n",
              "</div>\n",
              "      <button class=\"colab-df-convert\" onclick=\"convertToInteractive('df-54b7649c-6db3-491c-9501-ff9c22eb56d3')\"\n",
              "              title=\"Convert this dataframe to an interactive table.\"\n",
              "              style=\"display:none;\">\n",
              "        \n",
              "  <svg xmlns=\"http://www.w3.org/2000/svg\" height=\"24px\"viewBox=\"0 0 24 24\"\n",
              "       width=\"24px\">\n",
              "    <path d=\"M0 0h24v24H0V0z\" fill=\"none\"/>\n",
              "    <path d=\"M18.56 5.44l.94 2.06.94-2.06 2.06-.94-2.06-.94-.94-2.06-.94 2.06-2.06.94zm-11 1L8.5 8.5l.94-2.06 2.06-.94-2.06-.94L8.5 2.5l-.94 2.06-2.06.94zm10 10l.94 2.06.94-2.06 2.06-.94-2.06-.94-.94-2.06-.94 2.06-2.06.94z\"/><path d=\"M17.41 7.96l-1.37-1.37c-.4-.4-.92-.59-1.43-.59-.52 0-1.04.2-1.43.59L10.3 9.45l-7.72 7.72c-.78.78-.78 2.05 0 2.83L4 21.41c.39.39.9.59 1.41.59.51 0 1.02-.2 1.41-.59l7.78-7.78 2.81-2.81c.8-.78.8-2.07 0-2.86zM5.41 20L4 18.59l7.72-7.72 1.47 1.35L5.41 20z\"/>\n",
              "  </svg>\n",
              "      </button>\n",
              "      \n",
              "  <style>\n",
              "    .colab-df-container {\n",
              "      display:flex;\n",
              "      flex-wrap:wrap;\n",
              "      gap: 12px;\n",
              "    }\n",
              "\n",
              "    .colab-df-convert {\n",
              "      background-color: #E8F0FE;\n",
              "      border: none;\n",
              "      border-radius: 50%;\n",
              "      cursor: pointer;\n",
              "      display: none;\n",
              "      fill: #1967D2;\n",
              "      height: 32px;\n",
              "      padding: 0 0 0 0;\n",
              "      width: 32px;\n",
              "    }\n",
              "\n",
              "    .colab-df-convert:hover {\n",
              "      background-color: #E2EBFA;\n",
              "      box-shadow: 0px 1px 2px rgba(60, 64, 67, 0.3), 0px 1px 3px 1px rgba(60, 64, 67, 0.15);\n",
              "      fill: #174EA6;\n",
              "    }\n",
              "\n",
              "    [theme=dark] .colab-df-convert {\n",
              "      background-color: #3B4455;\n",
              "      fill: #D2E3FC;\n",
              "    }\n",
              "\n",
              "    [theme=dark] .colab-df-convert:hover {\n",
              "      background-color: #434B5C;\n",
              "      box-shadow: 0px 1px 3px 1px rgba(0, 0, 0, 0.15);\n",
              "      filter: drop-shadow(0px 1px 2px rgba(0, 0, 0, 0.3));\n",
              "      fill: #FFFFFF;\n",
              "    }\n",
              "  </style>\n",
              "\n",
              "      <script>\n",
              "        const buttonEl =\n",
              "          document.querySelector('#df-54b7649c-6db3-491c-9501-ff9c22eb56d3 button.colab-df-convert');\n",
              "        buttonEl.style.display =\n",
              "          google.colab.kernel.accessAllowed ? 'block' : 'none';\n",
              "\n",
              "        async function convertToInteractive(key) {\n",
              "          const element = document.querySelector('#df-54b7649c-6db3-491c-9501-ff9c22eb56d3');\n",
              "          const dataTable =\n",
              "            await google.colab.kernel.invokeFunction('convertToInteractive',\n",
              "                                                     [key], {});\n",
              "          if (!dataTable) return;\n",
              "\n",
              "          const docLinkHtml = 'Like what you see? Visit the ' +\n",
              "            '<a target=\"_blank\" href=https://colab.research.google.com/notebooks/data_table.ipynb>data table notebook</a>'\n",
              "            + ' to learn more about interactive tables.';\n",
              "          element.innerHTML = '';\n",
              "          dataTable['output_type'] = 'display_data';\n",
              "          await google.colab.output.renderOutput(dataTable, element);\n",
              "          const docLink = document.createElement('div');\n",
              "          docLink.innerHTML = docLinkHtml;\n",
              "          element.appendChild(docLink);\n",
              "        }\n",
              "      </script>\n",
              "    </div>\n",
              "  </div>\n",
              "  "
            ]
          },
          "metadata": {},
          "execution_count": 11
        }
      ]
    },
    {
      "cell_type": "code",
      "source": [
        "sns.boxplot(data = df, x = \"gender\", y = \"pay\")\n",
        "plt.title(\"Pay vs Gender\")"
      ],
      "metadata": {
        "colab": {
          "base_uri": "https://localhost:8080/",
          "height": 312
        },
        "id": "JDg2kbtRkopI",
        "outputId": "0485bc43-881f-4b32-9a54-2c8017e29b31"
      },
      "execution_count": null,
      "outputs": [
        {
          "output_type": "execute_result",
          "data": {
            "text/plain": [
              "Text(0.5, 1.0, 'Pay vs Gender')"
            ]
          },
          "metadata": {},
          "execution_count": 12
        },
        {
          "output_type": "display_data",
          "data": {
            "text/plain": [
              "<Figure size 432x288 with 1 Axes>"
            ],
            "image/png": "[encoded data removed]"
          },
          "metadata": {
            "needs_background": "light"
          }
        }
      ]
    },
    {
      "cell_type": "markdown",
      "source": [
        "Se observa que la mediana para el caso de los pagos recibidos por los hombres es ligeramente superior a la mediada de los pagos recibidos por mujeres, no obstante, las cajas se encuentran bastante solapadas por lo que a priori no parecieran existir diferencias significativas. \n",
        "\n",
        "La variabilidad también es levemente mayor para el caso de los pagos recibidos por hombres. Ambos casos presentan outliers."
      ],
      "metadata": {
        "id": "j12sM8cXlBa0"
      }
    },
    {
      "cell_type": "code",
      "source": [
        "sns.boxplot(data = df, x = \"seniority\", y = \"pay\", hue = \"gender\")\n",
        "plt.title(\"Seniority pay vs Gender\")"
      ],
      "metadata": {
        "colab": {
          "base_uri": "https://localhost:8080/",
          "height": 312
        },
        "id": "9ZjKyp4Ul2mw",
        "outputId": "33a19e6b-b4e6-440d-d01e-0360375baa35"
      },
      "execution_count": null,
      "outputs": [
        {
          "output_type": "execute_result",
          "data": {
            "text/plain": [
              "Text(0.5, 1.0, 'Seniority pay vs Gender')"
            ]
          },
          "metadata": {},
          "execution_count": 13
        },
        {
          "output_type": "display_data",
          "data": {
            "text/plain": [
              "<Figure size 432x288 with 1 Axes>"
            ],
            "image/png": "[encoded data removed]"
          },
          "metadata": {
            "needs_background": "light"
          }
        }
      ]
    },
    {
      "cell_type": "markdown",
      "source": [
        "Al discriminar los salarios por el seniority nos encontramos con que, para todos los casos, la mediana del pago que reciben los hombres es ligeramente superior que la mediana del pago que reciben las mujeres, si bien las cajas siguen encontrándose solapadas por lo que a priori no podríamos afirmar que existan diferencias significativas."
      ],
      "metadata": {
        "id": "TD6HP-5mnpOs"
      }
    },
    {
      "cell_type": "code",
      "source": [
        "fig,ax = plt.subplots()\n",
        "fig.set_size_inches(12, 5)\n",
        "ax.tick_params(axis='x', rotation=40)\n",
        "sns.boxplot(data = df, x = \"jobtitle\", y = \"pay\", hue = \"gender\")\n",
        "plt.title(\"Job title pay vs Gender\")"
      ],
      "metadata": {
        "colab": {
          "base_uri": "https://localhost:8080/",
          "height": 433
        },
        "id": "LuedJVenmPqv",
        "outputId": "d1904e04-514e-4b26-a515-e9ea5cb5c532"
      },
      "execution_count": null,
      "outputs": [
        {
          "output_type": "execute_result",
          "data": {
            "text/plain": [
              "Text(0.5, 1.0, 'Job title pay vs Gender')"
            ]
          },
          "metadata": {},
          "execution_count": 14
        },
        {
          "output_type": "display_data",
          "data": {
            "text/plain": [
              "<Figure size 864x360 with 1 Axes>"
            ],
            "image/png": "[encoded data removed]"
          },
          "metadata": {
            "needs_background": "light"
          }
        }
      ]
    },
    {
      "cell_type": "markdown",
      "source": [
        "Al discriminar los salarios por puesto de trabajo nos encontramos con que hay casos en los cuales la mediana es ligeramente superior en los pagos de las muejeres. Esto es para los puestos de Graphic Design, Warehouse Associate, IT, \n",
        "Financial Analyst, Data Scientist y Manager. Sin embargo en todos ellos hay solapamiento de cajas, por lo que no podríamos afirmar a priori que existan diferencias significativas. \n",
        "\n",
        "Destaca el caso los Software Engineers en el cual la variabilidad de los pagos de las mujeres es bastante menor a la variabilidad de pagos de los hombres."
      ],
      "metadata": {
        "id": "Rtd8f1NaofGV"
      }
    },
    {
      "cell_type": "code",
      "source": [
        "fig,ax = plt.subplots()\n",
        "fig.set_size_inches(12, 5)\n",
        "sns.boxplot(data = df, x = \"performance\", y = \"pay\", hue = \"gender\")\n",
        "plt.title(\"Performance pay vs Gender\")"
      ],
      "metadata": {
        "colab": {
          "base_uri": "https://localhost:8080/",
          "height": 367
        },
        "id": "pV1De20OpTIr",
        "outputId": "8c2ba7d1-b6a8-40a9-f878-a2933ee0e058"
      },
      "execution_count": null,
      "outputs": [
        {
          "output_type": "execute_result",
          "data": {
            "text/plain": [
              "Text(0.5, 1.0, 'Performance pay vs Gender')"
            ]
          },
          "metadata": {},
          "execution_count": 15
        },
        {
          "output_type": "display_data",
          "data": {
            "text/plain": [
              "<Figure size 864x360 with 1 Axes>"
            ],
            "image/png": "[encoded data removed]"
          },
          "metadata": {
            "needs_background": "light"
          }
        }
      ]
    },
    {
      "cell_type": "markdown",
      "source": [
        "Una de las medidas más importantes en una empresa es el rendimiento de los empleados (performance en nuestro caso de estudio). En este gráfico observamos que para todos los niveles de performance la mediana del pago que reciben los hombres es ligeramente superior que la mediana del pago que reciben las mujeres. \n",
        "\n",
        "En el caso de las personas que recibieron una calificación de 4 en su performance observamos que la mediana de pago de los hombres es casi igual al pago que recibe el 75% de las muejeres con igual calificación. \n",
        "\n",
        "Nuevamente las cajas se encuentran bastante solapadas por lo que a priori no podríamos afirmar que existan diferencias significativas en los pagos."
      ],
      "metadata": {
        "id": "W5EWrGMdpaA_"
      }
    },
    {
      "cell_type": "markdown",
      "source": [
        "### Modelos lineales"
      ],
      "metadata": {
        "id": "xp_gZTRIJExm"
      }
    },
    {
      "cell_type": "markdown",
      "source": [
        "#### Modelo tomando en cuenta la edad"
      ],
      "metadata": {
        "id": "OIAQRSU5OfjW"
      }
    },
    {
      "cell_type": "code",
      "source": [
        "model_1 = \"pay~age\"\n",
        "lm_1 = sm.ols(formula = model_1, data = df).fit()\n",
        "print(lm_1.summary())"
      ],
      "metadata": {
        "colab": {
          "base_uri": "https://localhost:8080/"
        },
        "id": "vwTDz1aEJVIn",
        "outputId": "dd1028d5-3ee7-46df-ea76-218840108cf5"
      },
      "execution_count": null,
      "outputs": [
        {
          "output_type": "stream",
          "name": "stdout",
          "text": [
            "                            OLS Regression Results                            \n",
            "==============================================================================\n",
            "Dep. Variable:                    pay   R-squared:                       0.285\n",
            "Model:                            OLS   Adj. R-squared:                  0.284\n",
            "Method:                 Least Squares   F-statistic:                     397.5\n",
            "Date:                Mon, 13 Mar 2023   Prob (F-statistic):           1.04e-74\n",
            "Time:                        00:01:21   Log-Likelihood:                -11384.\n",
            "No. Observations:                1000   AIC:                         2.277e+04\n",
            "Df Residuals:                     998   BIC:                         2.278e+04\n",
            "Df Model:                           1                                         \n",
            "Covariance Type:            nonrobust                                         \n",
            "==============================================================================\n",
            "                 coef    std err          t      P>|t|      [0.025      0.975]\n",
            "------------------------------------------------------------------------------\n",
            "Intercept   6.206e+04   2062.885     30.085      0.000     5.8e+04    6.61e+04\n",
            "age          939.2501     47.109     19.938      0.000     846.806    1031.694\n",
            "==============================================================================\n",
            "Omnibus:                        6.360   Durbin-Watson:                   1.905\n",
            "Prob(Omnibus):                  0.042   Jarque-Bera (JB):                6.421\n",
            "Skew:                           0.182   Prob(JB):                       0.0403\n",
            "Kurtosis:                       2.853   Cond. No.                         134.\n",
            "==============================================================================\n",
            "\n",
            "Notes:\n",
            "[1] Standard Errors assume that the covariance matrix of the errors is correctly specified.\n"
          ]
        }
      ]
    },
    {
      "cell_type": "markdown",
      "source": [
        "El IC del 95% de confianza para nuestra variable predictora (edad) no contiene al 0, lo que evidencia que existe una relación lineal entre las variables, aunque no muy marcada. $R^2 = 0.284$\n",
        "\n",
        "La interpretración correcta del modelo nos dice que por cada año que aumenta una persona gana en promedio 939 USD más (anualmente)."
      ],
      "metadata": {
        "id": "JqFb8ev3J9FD"
      }
    },
    {
      "cell_type": "markdown",
      "source": [
        "#### Modelo tomando en cuenta la edad y el género"
      ],
      "metadata": {
        "id": "W4MpIlQuOhzE"
      }
    },
    {
      "cell_type": "code",
      "source": [
        "model_2 = \"pay~age+gender\"\n",
        "lm_2 = sm.ols(formula = model_2, data = df).fit()\n",
        "print(lm_2.summary())"
      ],
      "metadata": {
        "colab": {
          "base_uri": "https://localhost:8080/"
        },
        "id": "yu0X1xQJM554",
        "outputId": "67d54f9d-8624-4aa9-9b9c-ef6ed4dd91cf"
      },
      "execution_count": null,
      "outputs": [
        {
          "output_type": "stream",
          "name": "stdout",
          "text": [
            "                            OLS Regression Results                            \n",
            "==============================================================================\n",
            "Dep. Variable:                    pay   R-squared:                       0.319\n",
            "Model:                            OLS   Adj. R-squared:                  0.317\n",
            "Method:                 Least Squares   F-statistic:                     233.2\n",
            "Date:                Mon, 13 Mar 2023   Prob (F-statistic):           8.10e-84\n",
            "Time:                        00:01:21   Log-Likelihood:                -11359.\n",
            "No. Observations:                1000   AIC:                         2.272e+04\n",
            "Df Residuals:                     997   BIC:                         2.274e+04\n",
            "Df Model:                           2                                         \n",
            "Covariance Type:            nonrobust                                         \n",
            "==================================================================================\n",
            "                     coef    std err          t      P>|t|      [0.025      0.975]\n",
            "----------------------------------------------------------------------------------\n",
            "Intercept       5.674e+04   2151.480     26.373      0.000    5.25e+04     6.1e+04\n",
            "gender[T.Male]  9279.3180   1317.787      7.042      0.000    6693.364    1.19e+04\n",
            "age              948.5266     46.022     20.610      0.000     858.216    1038.837\n",
            "==============================================================================\n",
            "Omnibus:                        9.898   Durbin-Watson:                   1.871\n",
            "Prob(Omnibus):                  0.007   Jarque-Bera (JB):                9.345\n",
            "Skew:                           0.197   Prob(JB):                      0.00935\n",
            "Kurtosis:                       2.737   Cond. No.                         148.\n",
            "==============================================================================\n",
            "\n",
            "Notes:\n",
            "[1] Standard Errors assume that the covariance matrix of the errors is correctly specified.\n"
          ]
        }
      ]
    },
    {
      "cell_type": "markdown",
      "source": [
        "Se observa nuevamente que los intervalos de confianza del 95% no contienen el 0, por lo que existe una relación lineal entre las variables que, aunque no es muy marcada, la explica mejor que el modelo anterior. $R^2 = 0.317$\n",
        "\n",
        "La interpretación correcta del modelo nos muestra que, nuevamente, cuando aumenta la edad un año, el salario anual aumenta en 948 USD.\n",
        "\n",
        "Respecto al género, se toma como categoría predeterminada el género femenino y se observa que al pasar del mismo al género masculino, el salario anual aumenta en 9279 USD."
      ],
      "metadata": {
        "id": "ECAMBhBbNag-"
      }
    },
    {
      "cell_type": "markdown",
      "source": [
        "#### Modelo tomando en cuenta todas las variables"
      ],
      "metadata": {
        "id": "uDbd0vogOkL9"
      }
    },
    {
      "cell_type": "code",
      "source": [
        "model_3 = \"pay~age+gender+jobtitle+education+performance+seniority+department\"\n",
        "lm_3 = sm.ols(formula = model_3, data = df).fit()\n",
        "print(lm_3.summary())"
      ],
      "metadata": {
        "colab": {
          "base_uri": "https://localhost:8080/"
        },
        "id": "yppBPrmxOnbW",
        "outputId": "2ff00f46-f39d-47bb-f828-7f4dbd1045c6"
      },
      "execution_count": null,
      "outputs": [
        {
          "output_type": "stream",
          "name": "stdout",
          "text": [
            "                            OLS Regression Results                            \n",
            "==============================================================================\n",
            "Dep. Variable:                    pay   R-squared:                       0.841\n",
            "Model:                            OLS   Adj. R-squared:                  0.838\n",
            "Method:                 Least Squares   F-statistic:                     259.6\n",
            "Date:                Mon, 13 Mar 2023   Prob (F-statistic):               0.00\n",
            "Time:                        00:01:22   Log-Likelihood:                -10631.\n",
            "No. Observations:                1000   AIC:                         2.130e+04\n",
            "Df Residuals:                     979   BIC:                         2.141e+04\n",
            "Df Model:                          20                                         \n",
            "Covariance Type:            nonrobust                                         \n",
            "===================================================================================================\n",
            "                                      coef    std err          t      P>|t|      [0.025      0.975]\n",
            "---------------------------------------------------------------------------------------------------\n",
            "Intercept                        2.203e+04   1933.534     11.392      0.000    1.82e+04    2.58e+04\n",
            "gender[T.Male]                    392.3244    715.798      0.548      0.584   -1012.351    1797.000\n",
            "jobtitle[T.Driver]              -3928.9812   1447.166     -2.715      0.007   -6768.886   -1089.076\n",
            "jobtitle[T.Financial Analyst]    3417.7090   1388.276      2.462      0.014     693.370    6142.048\n",
            "jobtitle[T.Graphic Designer]    -2457.6992   1420.886     -1.730      0.084   -5246.031     330.633\n",
            "jobtitle[T.IT]                  -2149.7022   1427.414     -1.506      0.132   -4950.846     651.442\n",
            "jobtitle[T.Manager]               3.16e+04   1471.445     21.476      0.000    2.87e+04    3.45e+04\n",
            "jobtitle[T.Marketing Associate] -1.701e+04   1385.795    -12.277      0.000   -1.97e+04   -1.43e+04\n",
            "jobtitle[T.Sales Associate]       263.4456   1435.261      0.184      0.854   -2553.096    3079.988\n",
            "jobtitle[T.Software Engineer]    1.339e+04   1413.182      9.473      0.000    1.06e+04    1.62e+04\n",
            "jobtitle[T.Warehouse Associate]  -564.0171   1452.967     -0.388      0.698   -3415.305    2287.271\n",
            "education[T.High School]        -1435.1693    908.773     -1.579      0.115   -3218.536     348.198\n",
            "education[T.Masters]             4717.9971    914.421      5.160      0.000    2923.546    6512.448\n",
            "education[T.PhD]                 6026.2867    929.705      6.482      0.000    4201.842    7850.731\n",
            "department[T.Engineering]        3267.9358   1036.509      3.153      0.002    1233.901    5301.970\n",
            "department[T.Management]         2957.8290   1033.031      2.863      0.004     930.619    4985.039\n",
            "department[T.Operations]         -481.4968   1014.616     -0.475      0.635   -2472.570    1509.577\n",
            "department[T.Sales]              6193.4962   1020.679      6.068      0.000    4190.526    8196.466\n",
            "age                               948.9464     22.527     42.126      0.000     904.740     993.152\n",
            "performance                      1156.8797    228.188      5.070      0.000     709.085    1604.674\n",
            "seniority                        9903.7103    231.490     42.782      0.000    9449.436    1.04e+04\n",
            "==============================================================================\n",
            "Omnibus:                        3.500   Durbin-Watson:                   1.982\n",
            "Prob(Omnibus):                  0.174   Jarque-Bera (JB):                3.555\n",
            "Skew:                          -0.130   Prob(JB):                        0.169\n",
            "Kurtosis:                       2.866   Cond. No.                         453.\n",
            "==============================================================================\n",
            "\n",
            "Notes:\n",
            "[1] Standard Errors assume that the covariance matrix of the errors is correctly specified.\n"
          ]
        }
      ]
    },
    {
      "cell_type": "markdown",
      "source": [
        "Al incorporar todas las variables al modelo la brecha salarial se reduce, lo que indica que la misma se explica principalmente por otros factores como el nivel educativo, la performance, el seniority, el puesto y el departamento de trabajo. Ahora $R^2 = 0.841$, lo que indica que gran parte de la variabilidad está adecudamente explicada por el modelo.\n",
        "\n",
        "La diferencia en los pagos anuales para los hombres y para las mujeres se redujo a 392 USD en favor del hombre. Sin embargo, el p-valor = 0.584 nos indica que esto es estadísticamente indistinguible del 0, por lo que no podemos afirmar que existan diferencias significativas entre el pago que reciben los hombres y el pago que reciben las mujeres luego de controlar todos los demás factores."
      ],
      "metadata": {
        "id": "T0WUzXz8S0yR"
      }
    }
  ]
}